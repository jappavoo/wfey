{
 "cells": [
  {
   "cell_type": "markdown",
   "id": "84c2d097-b831-4f62-bf11-5c2e90e7f96e",
   "metadata": {},
   "source": [
    "# Set Up"
   ]
  },
  {
   "cell_type": "code",
   "execution_count": null,
   "id": "416f2e2b-4b32-407b-be92-c714e9a1624c",
   "metadata": {},
   "outputs": [],
   "source": [
    "import numpy as np\n",
    "import pandas as pd\n",
    "\n",
    "import matplotlib as mpl\n",
    "import matplotlib.pyplot as plt\n",
    "\n",
    "import seaborn as sns\n",
    "import seaborn.objects as so\n",
    "\n",
    "import glob\n",
    "import os\n",
    "\n",
    "import math\n",
    "import csv\n",
    "\n",
    "from scipy import stats"
   ]
  },
  {
   "cell_type": "code",
   "execution_count": null,
   "id": "d4a37092-74b5-4212-b49b-80d47c78719d",
   "metadata": {},
   "outputs": [],
   "source": [
    "sns.set_theme()\n",
    "sns.set_palette(\"Paired\")"
   ]
  },
  {
   "cell_type": "code",
   "execution_count": null,
   "id": "a37f9a2b-e7c1-49a0-84e9-96929b1d2437",
   "metadata": {},
   "outputs": [],
   "source": [
    "LOGS=\"old_logs\"\n",
    "DF=\"df\"\n",
    "\n",
    "HOME_DIRECTORY = os.getenv('PWD') #os.getcwd()\n",
    "PATH_TO_LOGS = HOME_DIRECTORY+\"/logs/\"+LOGS+\"/\"\n",
    "\n",
    "PATH_TO_BM_OUT = HOME_DIRECTORY+'/'+DF+'/'\n",
    "os.makedirs(PATH_TO_BM_OUT, exist_ok=True)\n",
    "\n",
    "print(\"Home Directory = \" + HOME_DIRECTORY)\n",
    "print(\"Log Path = \" + PATH_TO_LOGS)\n",
    "\n",
    "CONFIGS=[\"busypoll_nodb_wfey\", \"busypoll_db_wfey\", \"wfe_nodb_wfey\", \"wfe_db_nomon_wfey\", \"wfe_db_mon_wfey\" ]\n",
    "EVENTRATE=[10, 100, 50000, 100000, 150000]\n",
    "EVENTPROCCPUS=[ \"1\" ]\n",
    "SOURCECPUS=[1, 5, 10, 50, 79]\n",
    "\n",
    "TIME_BTN_POWER = 0.5\n",
    "PERCENT=50 # How much of the data do you want to keep from the middle of the data\n",
    "OVERFLOW_NUM = 500 # If the hwmon file is more that <OVERFLOW_NUM> long -- there was probably a problem in data collection"
   ]
  },
  {
   "cell_type": "code",
   "execution_count": null,
   "id": "df2c1dd4-3a33-4b51-9f7c-ae73600a4365",
   "metadata": {},
   "outputs": [],
   "source": []
  }
 ],
 "metadata": {
  "kernelspec": {
   "display_name": "Python 3 (ipykernel)",
   "language": "python",
   "name": "python3"
  },
  "language_info": {
   "codemirror_mode": {
    "name": "ipython",
    "version": 3
   },
   "file_extension": ".py",
   "mimetype": "text/x-python",
   "name": "python",
   "nbconvert_exporter": "python",
   "pygments_lexer": "ipython3",
   "version": "3.13.5"
  }
 },
 "nbformat": 4,
 "nbformat_minor": 5
}
